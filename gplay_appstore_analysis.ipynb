{
 "cells": [
  {
   "cell_type": "markdown",
   "metadata": {},
   "source": [
    "# Profitable App Profiles For The App Store & Google Play Markets\n",
    "\n",
    "As our company success is based on the number of downloads we achieve on our mobile apps, being able to pinpoint the most profitable app genres is crucial.\n",
    "\n",
    "The goal of this project is to sift through our data to figure out what kind of apps our development team should be focused on creating. We might be able to gain insight into what our core users could be into next."
   ]
  },
  {
   "cell_type": "markdown",
   "metadata": {},
   "source": [
    "The two data sets provided to find insight are:\n",
    "\n",
    "\n",
    "[**Apple App Store** data set - (_Documentation Link_)](https://www.kaggle.com/ramamet4/app-store-apple-data-set-10k-apps/home)\n",
    "\n",
    "[**Google Play** data set - (_Documentation Link_](https://www.kaggle.com/lava18/google-play-store-apps/home)\n",
    "\n",
    "My first task will be using Python to open and read in both datasets into a list of lists."
   ]
  },
  {
   "cell_type": "code",
   "execution_count": 1,
   "metadata": {
    "collapsed": true
   },
   "outputs": [],
   "source": [
    "import csv\n",
    "\n",
    "f_apple = open('AppleStore.csv')\n",
    "f_a_read = csv.reader(f_apple)\n",
    "f_a_list = list(f_a_read)\n",
    "\n",
    "f_google = open('googleplaystore.csv')\n",
    "f_g_read = csv.reader(f_google)\n",
    "f_g_list = list(f_g_read)"
   ]
  },
  {
   "cell_type": "code",
   "execution_count": 2,
   "metadata": {
    "collapsed": true
   },
   "outputs": [],
   "source": [
    "def explore_data(dataset, start, end, rows_and_columns=False):\n",
    "    dataset_slice = dataset[start:end]    \n",
    "    for row in dataset_slice:\n",
    "        print(row)\n",
    "        print('\\n') # adds a new (empty) line after each row\n",
    "\n",
    "    if rows_and_columns:\n",
    "        print('Number of rows:', len(dataset))\n",
    "        print('Number of columns:', len(dataset[0]))"
   ]
  },
  {
   "cell_type": "code",
   "execution_count": 3,
   "metadata": {
    "collapsed": false
   },
   "outputs": [
    {
     "name": "stdout",
     "output_type": "stream",
     "text": [
      "['id', 'track_name', 'size_bytes', 'currency', 'price', 'rating_count_tot', 'rating_count_ver', 'user_rating', 'user_rating_ver', 'ver', 'cont_rating', 'prime_genre', 'sup_devices.num', 'ipadSc_urls.num', 'lang.num', 'vpp_lic']\n",
      "\n",
      "\n",
      "['284882215', 'Facebook', '389879808', 'USD', '0.0', '2974676', '212', '3.5', '3.5', '95.0', '4+', 'Social Networking', '37', '1', '29', '1']\n",
      "\n",
      "\n",
      "['389801252', 'Instagram', '113954816', 'USD', '0.0', '2161558', '1289', '4.5', '4.0', '10.23', '12+', 'Photo & Video', '37', '0', '29', '1']\n",
      "\n",
      "\n",
      "['529479190', 'Clash of Clans', '116476928', 'USD', '0.0', '2130805', '579', '4.5', '4.5', '9.24.12', '9+', 'Games', '38', '5', '18', '1']\n",
      "\n",
      "\n",
      "['420009108', 'Temple Run', '65921024', 'USD', '0.0', '1724546', '3842', '4.5', '4.0', '1.6.2', '9+', 'Games', '40', '5', '1', '1']\n",
      "\n",
      "\n",
      "Number of rows: 7198\n",
      "Number of columns: 16\n"
     ]
    }
   ],
   "source": [
    "apple_explore = explore_data(f_a_list, 0, 5, rows_and_columns=True)\n"
   ]
  },
  {
   "cell_type": "markdown",
   "metadata": {},
   "source": [
    "looking at the first few columns of the Apple App Store data, I believe the mose useful ones will be **user_rating, rating_count_tot, cont_rating prime_genre.**"
   ]
  },
  {
   "cell_type": "code",
   "execution_count": 4,
   "metadata": {
    "collapsed": false
   },
   "outputs": [
    {
     "name": "stdout",
     "output_type": "stream",
     "text": [
      "['App', 'Category', 'Rating', 'Reviews', 'Size', 'Installs', 'Type', 'Price', 'Content Rating', 'Genres', 'Last Updated', 'Current Ver', 'Android Ver']\n",
      "\n",
      "\n",
      "['Photo Editor & Candy Camera & Grid & ScrapBook', 'ART_AND_DESIGN', '4.1', '159', '19M', '10,000+', 'Free', '0', 'Everyone', 'Art & Design', 'January 7, 2018', '1.0.0', '4.0.3 and up']\n",
      "\n",
      "\n",
      "['Coloring book moana', 'ART_AND_DESIGN', '3.9', '967', '14M', '500,000+', 'Free', '0', 'Everyone', 'Art & Design;Pretend Play', 'January 15, 2018', '2.0.0', '4.0.3 and up']\n",
      "\n",
      "\n",
      "['U Launcher Lite – FREE Live Cool Themes, Hide Apps', 'ART_AND_DESIGN', '4.7', '87510', '8.7M', '5,000,000+', 'Free', '0', 'Everyone', 'Art & Design', 'August 1, 2018', '1.2.4', '4.0.3 and up']\n",
      "\n",
      "\n",
      "['Sketch - Draw & Paint', 'ART_AND_DESIGN', '4.5', '215644', '25M', '50,000,000+', 'Free', '0', 'Teen', 'Art & Design', 'June 8, 2018', 'Varies with device', '4.2 and up']\n",
      "\n",
      "\n",
      "Number of rows: 10842\n",
      "Number of columns: 13\n"
     ]
    }
   ],
   "source": [
    "google_explore = explore_data(f_g_list, 0, 5, rows_and_columns=True)"
   ]
  },
  {
   "cell_type": "code",
   "execution_count": 5,
   "metadata": {
    "collapsed": false
   },
   "outputs": [],
   "source": [
    "del f_g_list[10473]"
   ]
  },
  {
   "cell_type": "markdown",
   "metadata": {},
   "source": [
    "The Google Play store data is similar to the Apple data. The most useful columns will be **Rating, Installs, Genres and Content Rating**"
   ]
  },
  {
   "cell_type": "markdown",
   "metadata": {},
   "source": [
    "At this point, I want to check for any duplicate data in the Google Play dataset. The will keep the most recent data, based on the number of reviews. A for loop with a conditional statement will allow me to do this:"
   ]
  },
  {
   "cell_type": "code",
   "execution_count": 6,
   "metadata": {
    "collapsed": false
   },
   "outputs": [
    {
     "name": "stdout",
     "output_type": "stream",
     "text": [
      "9659\n",
      "1181\n",
      "['Quick PDF Scanner + OCR FREE', 'Box', 'Google My Business', 'ZOOM Cloud Meetings', 'join.me - Simple Meetings', 'Box', 'Zenefits', 'Google Ads', 'Google My Business', 'Slack', 'FreshBooks Classic', 'Insightly CRM', 'QuickBooks Accounting: Invoicing & Expenses', 'HipChat - Chat Built for Teams', 'Xero Accounting Software']\n"
     ]
    }
   ],
   "source": [
    "google_dups = []\n",
    "no_dups = []\n",
    "for app in f_g_list[1:]:\n",
    "    name = app[0]\n",
    "    if name in no_dups:\n",
    "        google_dups.append(name)\n",
    "    else:\n",
    "        no_dups.append(name)\n",
    "\n",
    "print(len(no_dups))\n",
    "print(len(google_dups))\n",
    "print(google_dups[:15])        "
   ]
  },
  {
   "cell_type": "code",
   "execution_count": 7,
   "metadata": {
    "collapsed": false
   },
   "outputs": [
    {
     "name": "stdout",
     "output_type": "stream",
     "text": [
      "9659\n"
     ]
    }
   ],
   "source": [
    "reviews_max = {} #empty dictionary to count most recent app reviews\n",
    "\n",
    "for app in f_g_list[1:]:\n",
    "    name = app[0]\n",
    "    n_reviews = float(app[3])\n",
    "    \n",
    "    if name in reviews_max and \\\n",
    "    reviews_max[name] < n_reviews:\n",
    "        reviews_max[name] = n_reviews\n",
    "        \n",
    "    if name not in reviews_max:\n",
    "        reviews_max[name] = n_reviews\n",
    "    \n",
    "len(reviews_max) # checking the length of the dictionary for accuracy.\n",
    "\n",
    "android_clean = [] #empty list to store cleaned data\n",
    "already_added = [] # stores app names\n",
    "\n",
    "for app in f_g_list[1:]:\n",
    "    name = app[0]\n",
    "    n_reviews = float(app[3])\n",
    "    \n",
    "    if n_reviews == reviews_max[name]:\n",
    "        if name not in already_added:\n",
    "            android_clean.append(app)\n",
    "            already_added.append(name)\n",
    "            \n",
    "print(len(android_clean))\n",
    "    "
   ]
  },
  {
   "cell_type": "markdown",
   "metadata": {},
   "source": [
    "**The code above required a few steps to truly clean:**\n",
    "* First I need to create a dictionary that would store the most recent reviews for any duplicate entries.\n",
    "* Afterward I created two lists, one with the cleaned data I will be working with going forward and another to catch all of the names of the apps. This was done to ensure no duplicates will be added and the list lengths were correct.\n",
    "* I ran a similar for loop as I did with the dictionary, but used an if statement w/ a nested if in order to filter down the results based on the dictionary entry for the review, as well as if the app could be found in the `already_added` list.\n",
    "* After that, I checked the length of the `android_clean` dataset to ensure it was the same as the dictionary `reviews_max`. "
   ]
  },
  {
   "cell_type": "code",
   "execution_count": 8,
   "metadata": {
    "collapsed": false
   },
   "outputs": [
    {
     "data": {
      "text/plain": [
       "False"
      ]
     },
     "execution_count": 8,
     "metadata": {},
     "output_type": "execute_result"
    }
   ],
   "source": [
    "def check_chars(string):\n",
    "    '''Takes in a string to check if it is \n",
    "    an English ASCII character.'''\n",
    "\n",
    "    ascii_count = 0\n",
    "    for let in string:\n",
    "        if ord(let) >= 127:\n",
    "            ascii_count += 1\n",
    "    if ascii_count >= 3:\n",
    "        return False\n",
    "    else:\n",
    "        return True\n",
    "    \n",
    "check_chars('爱奇艺PPS -《欢乐颂2》电视剧热播')"
   ]
  },
  {
   "cell_type": "code",
   "execution_count": 9,
   "metadata": {
    "collapsed": false
   },
   "outputs": [
    {
     "name": "stdout",
     "output_type": "stream",
     "text": [
      "[['Photo Editor & Candy Camera & Grid & ScrapBook', 'ART_AND_DESIGN', '4.1', '159', '19M', '10,000+', 'Free', '0', 'Everyone', 'Art & Design', 'January 7, 2018', '1.0.0', '4.0.3 and up'], ['U Launcher Lite – FREE Live Cool Themes, Hide Apps', 'ART_AND_DESIGN', '4.7', '87510', '8.7M', '5,000,000+', 'Free', '0', 'Everyone', 'Art & Design', 'August 1, 2018', '1.2.4', '4.0.3 and up']]\n",
      "[['id', 'track_name', 'size_bytes', 'currency', 'price', 'rating_count_tot', 'rating_count_ver', 'user_rating', 'user_rating_ver', 'ver', 'cont_rating', 'prime_genre', 'sup_devices.num', 'ipadSc_urls.num', 'lang.num', 'vpp_lic'], ['284882215', 'Facebook', '389879808', 'USD', '0.0', '2974676', '212', '3.5', '3.5', '95.0', '4+', 'Social Networking', '37', '1', '29', '1']]\n"
     ]
    }
   ],
   "source": [
    "android_apps = []\n",
    "apple_apps = []\n",
    "\n",
    "for app in android_clean:\n",
    "    name = app[0]\n",
    "    if check_chars(name):\n",
    "        android_apps.append(app)\n",
    "\n",
    "for app in f_a_list:\n",
    "    name = app[1]\n",
    "    if check_chars(name):\n",
    "        apple_apps.append(app)\n",
    "        \n",
    "print(android_apps[:2])\n",
    "print(apple_apps[:2])\n"
   ]
  },
  {
   "cell_type": "markdown",
   "metadata": {},
   "source": [
    "From looking at the newly created lists, we can see that the android dataset didn't have many non-english apps, but the apple dataset clearly had quite a few non-english apps in it. \n",
    "\n",
    "Next, we will filter the data further to isolate the apps that are free. We will use another set of lists, a set of for loops and some if statements to collect the information we need."
   ]
  },
  {
   "cell_type": "code",
   "execution_count": 10,
   "metadata": {
    "collapsed": false
   },
   "outputs": [
    {
     "name": "stdout",
     "output_type": "stream",
     "text": [
      "9597\n",
      "8847\n",
      "6156\n",
      "3203\n",
      "[['284882215', 'Facebook', '389879808', 'USD', '0.0', '2974676', '212', '3.5', '3.5', '95.0', '4+', 'Social Networking', '37', '1', '29', '1'], ['389801252', 'Instagram', '113954816', 'USD', '0.0', '2161558', '1289', '4.5', '4.0', '10.23', '12+', 'Photo & Video', '37', '0', '29', '1']]\n",
      "\n",
      "\n",
      "[['Photo Editor & Candy Camera & Grid & ScrapBook', 'ART_AND_DESIGN', '4.1', '159', '19M', '10,000+', 'Free', '0', 'Everyone', 'Art & Design', 'January 7, 2018', '1.0.0', '4.0.3 and up'], ['U Launcher Lite – FREE Live Cool Themes, Hide Apps', 'ART_AND_DESIGN', '4.7', '87510', '8.7M', '5,000,000+', 'Free', '0', 'Everyone', 'Art & Design', 'August 1, 2018', '1.2.4', '4.0.3 and up']]\n"
     ]
    }
   ],
   "source": [
    "# android_apps - our cleaned google data set - index 7 for price\n",
    "# apple_apps - our cleaned apple data set - index 4 for price\n",
    "\n",
    "android_free_apps = []\n",
    "apple_free_apps = []\n",
    "\n",
    "for app in android_apps:\n",
    "    free_app = app[6]\n",
    "    if free_app == 'Free':\n",
    "        android_free_apps.append(app)\n",
    "    \n",
    "print(len(android_apps)) # Length of original list \n",
    "print(len(android_free_apps)) # Length of free list\n",
    "    \n",
    "for app in apple_apps:\n",
    "    free_app = app[4]\n",
    "    if free_app == '0.0':\n",
    "        apple_free_apps.append(app)\n",
    "        \n",
    "print(len(apple_apps)) # Length of original list\n",
    "print(len(apple_free_apps)) # Length of free list\n",
    "\n",
    "print(apple_free_apps[:2])\n",
    "print('\\n')\n",
    "print(android_free_apps[:2])\n",
    "        "
   ]
  },
  {
   "cell_type": "markdown",
   "metadata": {},
   "source": [
    "## Beginning The Analysis\n",
    "At this point, we've cleaned the data enough to start looking for patterns. Because the goal is the find the most popular apps across both platforms _(in order to determine the most profitable)_, we need to take a closer look at columns that could help us. \n",
    "\n",
    "Columns related to genres might be a good place to start.\n"
   ]
  },
  {
   "cell_type": "code",
   "execution_count": 31,
   "metadata": {
    "collapsed": false
   },
   "outputs": [],
   "source": [
    "# category is [1]. genres are [9] android_free_apps\n",
    "# genres is apple_free_apps[11]\n",
    "\n",
    "def freq_table(dataset, index):\n",
    "    '''Builds a frequency table from a dataset'''\n",
    "    freq_table = {}\n",
    "    num_of_apps = 0\n",
    "    \n",
    "    for app in dataset:\n",
    "        num_of_apps += 1\n",
    "    print('Total Number of apps: ' + str(num_of_apps) + '\\n')\n",
    "\n",
    "    for app in dataset:\n",
    "        col = app[index]\n",
    "        if col in freq_table:\n",
    "            freq_table[col] += 1\n",
    "        else:\n",
    "            freq_table[col] = 1\n",
    "            \n",
    "    for iteration in freq_table:\n",
    "        freq_table[iteration] /= num_of_apps\n",
    "        freq_table[iteration] *= 100\n",
    "        \n",
    "    return freq_table \n",
    "\n",
    "\n",
    "def display_table(dataset, index):\n",
    "    table = freq_table(dataset, index)\n",
    "    table_display = []\n",
    "    for key in table:\n",
    "        key_val_as_tuple = (table[key], key)\n",
    "        table_display.append(key_val_as_tuple)\n",
    "\n",
    "    table_sorted = sorted(table_display, reverse = True)\n",
    "    for entry in table_sorted:\n",
    "        print(entry[1], ':', entry[0])\n"
   ]
  },
  {
   "cell_type": "markdown",
   "metadata": {},
   "source": [
    "**The Apple 'English Only' App Frequency Table:**"
   ]
  },
  {
   "cell_type": "code",
   "execution_count": 32,
   "metadata": {
    "collapsed": false
   },
   "outputs": [
    {
     "name": "stdout",
     "output_type": "stream",
     "text": [
      "Apple Genre List:\n",
      "\n",
      "Total Number of apps: 3203\n",
      "\n",
      "Games : 58.25788323446769\n",
      "Entertainment : 7.836403371838902\n",
      "Photo & Video : 4.995316890415236\n",
      "Education : 3.6840462066812365\n",
      "Social Networking : 3.3093974399000934\n",
      "Shopping : 2.5913206369029034\n",
      "Utilities : 2.466437714642523\n",
      "Sports : 2.1542304089915705\n",
      "Music : 2.0605682172962845\n",
      "Health & Fitness : 2.0293474867311896\n",
      "Productivity : 1.7483609116453322\n",
      "Lifestyle : 1.5610365282547611\n",
      "News : 1.3424914142990947\n",
      "Travel : 1.248829222603809\n",
      "Finance : 1.0927255697783327\n",
      "Weather : 0.8741804558226661\n",
      "Food & Drink : 0.8117389946924758\n",
      "Reference : 0.5307524196066188\n",
      "Business : 0.5307524196066188\n",
      "Book : 0.3746487667811427\n",
      "Navigation : 0.18732438339057134\n",
      "Medical : 0.18732438339057134\n",
      "Catalogs : 0.1248829222603809\n"
     ]
    }
   ],
   "source": [
    "print('Apple Genre List:\\n')\n",
    "apple_prime_genre = display_table(apple_free_apps, 11)"
   ]
  },
  {
   "cell_type": "markdown",
   "metadata": {},
   "source": [
    "Looking at the data from the Apple App Store frequency table, it is clear to see that the most popular genre of apps _(at least English-Only apps)_, is **Games**. The runner-up is the closely related **Entertainment**. What is interesting is how far away the two are percentage-wise.  \n",
    "\n",
    "It looks like a few other categories have 'ok' popularity, like Photo & Video and Education. I'd like to look a bit deeper into the social media category, as I thought this would be way more popular than the data shows.\n",
    "\n",
    "Based on this dataset, you could say that the Games categories is the ones we should focus on developing for. However, there is a chance that the most popular applications don't have the highest number of regular users. If social media isn't as popular genre-wise, but has more daily users, it might make sense to go in that direction development-wise. "
   ]
  },
  {
   "cell_type": "markdown",
   "metadata": {},
   "source": [
    "**The Android \"English Only\" Categories Frequency Table:**"
   ]
  },
  {
   "cell_type": "code",
   "execution_count": 33,
   "metadata": {
    "collapsed": false
   },
   "outputs": [
    {
     "name": "stdout",
     "output_type": "stream",
     "text": [
      "\n",
      "Android Category List:\n",
      "\n",
      "Total Number of apps: 8847\n",
      "\n",
      "FAMILY : 18.932971628800725\n",
      "GAME : 9.698202780603594\n",
      "TOOLS : 8.45484344975698\n",
      "BUSINESS : 4.600429524132474\n",
      "PRODUCTIVITY : 3.8996269922007465\n",
      "LIFESTYLE : 3.888323725556686\n",
      "FINANCE : 3.7074714592517237\n",
      "MEDICAL : 3.537922459590822\n",
      "SPORTS : 3.39097999321804\n",
      "PERSONALIZATION : 3.3231603933536795\n",
      "COMMUNICATION : 3.2327342602011986\n",
      "HEALTH_AND_FITNESS : 3.0857917938284163\n",
      "PHOTOGRAPHY : 2.950152594099695\n",
      "NEWS_AND_MAGAZINES : 2.803210127726913\n",
      "SOCIAL : 2.6675709279981916\n",
      "TRAVEL_AND_LOCAL : 2.3397761953204474\n",
      "SHOPPING : 2.2493500621679665\n",
      "BOOKS_AND_REFERENCE : 2.136317395727365\n",
      "DATING : 1.8650389962699219\n",
      "VIDEO_PLAYERS : 1.797219396405561\n",
      "MAPS_AND_NAVIGATION : 1.3903017972193965\n",
      "FOOD_AND_DRINK : 1.2433593308466147\n",
      "EDUCATION : 1.1642364643381937\n",
      "ENTERTAINMENT : 0.9607776647451114\n",
      "LIBRARIES_AND_DEMO : 0.938171131456991\n",
      "AUTO_AND_VEHICLES : 0.9268678648129309\n",
      "HOUSE_AND_HOME : 0.8025319317282694\n",
      "WEATHER : 0.7912286650842093\n",
      "EVENTS : 0.7121057985757884\n",
      "PARENTING : 0.6555894653554878\n",
      "ART_AND_DESIGN : 0.6442861987114276\n",
      "COMICS : 0.6103763987792472\n",
      "BEAUTY : 0.5990731321351871\n"
     ]
    }
   ],
   "source": [
    "print('\\nAndroid Category List:\\n')\n",
    "android_cats = display_table(android_free_apps, 1)"
   ]
  },
  {
   "cell_type": "markdown",
   "metadata": {},
   "source": [
    "The most common category for this Android column is **Family**. This one is tough to come to any conclusions on because we do not know what the **Family** category truly entails. The **Games** category is right behind family, with nearly 9.7% genre popularity. However, These two categories could very well be combined if you are looking to build a game that is rated for all ages. \n",
    "\n",
    "Once again in this data column Social Media apps seem to take a hit in genre popularity. Which is odd to me because these social media apps are almost built in to every mobile device. I'm thinking developers might not be labeling their social apps as _\"Social Media\"_. Some might be getting labeled under the wrong columns. That is something to look into. On the other hand, maybe Games and Family apps are just that popular.\n",
    "\n",
    "Based on this data, I recommend a Family app for developers to build, simply based on the popularity of them. Building something rated for all ages gives the best chance of appealing to the largest group of consumers."
   ]
  },
  {
   "cell_type": "markdown",
   "metadata": {},
   "source": [
    "**The Android \"English Only\" Genres Frequency Table:**"
   ]
  },
  {
   "cell_type": "code",
   "execution_count": 37,
   "metadata": {
    "collapsed": false
   },
   "outputs": [
    {
     "name": "stdout",
     "output_type": "stream",
     "text": [
      "\n",
      "Android Genre List:\n",
      "\n",
      "Total Number of apps: 8847\n",
      "\n",
      "Tools : 8.44354018311292\n",
      "Entertainment : 6.081157454504352\n",
      "Education : 5.357748389284503\n",
      "Business : 4.600429524132474\n",
      "Productivity : 3.8996269922007465\n",
      "Lifestyle : 3.8770204589126256\n",
      "Finance : 3.7074714592517237\n",
      "Medical : 3.537922459590822\n",
      "Sports : 3.458799593082401\n",
      "Personalization : 3.3231603933536795\n",
      "Communication : 3.2327342602011986\n",
      "Action : 3.0970950604724763\n",
      "Health & Fitness : 3.0857917938284163\n",
      "Photography : 2.950152594099695\n",
      "News & Magazines : 2.803210127726913\n",
      "Social : 2.6675709279981916\n",
      "Travel & Local : 2.3284729286763874\n",
      "Shopping : 2.2493500621679665\n",
      "Books & Reference : 2.136317395727365\n",
      "Simulation : 2.045891262574884\n",
      "Dating : 1.8650389962699219\n",
      "Arcade : 1.8424324629818016\n",
      "Video Players & Editors : 1.7746128631174407\n",
      "Casual : 1.763309596473381\n",
      "Maps & Navigation : 1.3903017972193965\n",
      "Food & Drink : 1.2433593308466147\n",
      "Puzzle : 1.1303266644060133\n",
      "Racing : 0.9946874646772917\n",
      "Role Playing : 0.938171131456991\n",
      "Libraries & Demo : 0.938171131456991\n",
      "Auto & Vehicles : 0.9268678648129309\n",
      "Strategy : 0.9042613315248107\n",
      "House & Home : 0.8025319317282694\n",
      "Weather : 0.7912286650842093\n",
      "Events : 0.7121057985757884\n",
      "Adventure : 0.6668927319995479\n",
      "Comics : 0.5990731321351871\n",
      "Beauty : 0.5990731321351871\n",
      "Art & Design : 0.5990731321351871\n",
      "Parenting : 0.49734373233864587\n",
      "Card : 0.45213066576240535\n",
      "Trivia : 0.41822086583022494\n",
      "Casino : 0.41822086583022494\n",
      "Educational;Education : 0.39561433254210465\n",
      "Board : 0.38431106589804453\n",
      "Educational : 0.3730077992539844\n",
      "Education;Education : 0.339097999321804\n",
      "Word : 0.2599751328133831\n",
      "Casual;Pretend Play : 0.23736859952526282\n",
      "Music : 0.20345879959308238\n",
      "Racing;Action & Adventure : 0.169548999660902\n",
      "Puzzle;Brain Games : 0.169548999660902\n",
      "Entertainment;Music & Video : 0.169548999660902\n",
      "Casual;Brain Games : 0.1356391997287216\n",
      "Casual;Action & Adventure : 0.1356391997287216\n",
      "Arcade;Action & Adventure : 0.12433593308466147\n",
      "Action;Action & Adventure : 0.10172939979654119\n",
      "Educational;Pretend Play : 0.09042613315248108\n",
      "Simulation;Action & Adventure : 0.07912286650842093\n",
      "Parenting;Education : 0.07912286650842093\n",
      "Entertainment;Brain Games : 0.07912286650842093\n",
      "Board;Brain Games : 0.07912286650842093\n",
      "Parenting;Music & Video : 0.0678195998643608\n",
      "Educational;Brain Games : 0.0678195998643608\n",
      "Casual;Creativity : 0.0678195998643608\n",
      "Art & Design;Creativity : 0.0678195998643608\n",
      "Education;Pretend Play : 0.05651633322030067\n",
      "Role Playing;Pretend Play : 0.04521306657624054\n",
      "Education;Creativity : 0.04521306657624054\n",
      "Role Playing;Action & Adventure : 0.0339097999321804\n",
      "Puzzle;Action & Adventure : 0.0339097999321804\n",
      "Entertainment;Creativity : 0.0339097999321804\n",
      "Entertainment;Action & Adventure : 0.0339097999321804\n",
      "Educational;Creativity : 0.0339097999321804\n",
      "Educational;Action & Adventure : 0.0339097999321804\n",
      "Education;Music & Video : 0.0339097999321804\n",
      "Education;Brain Games : 0.0339097999321804\n",
      "Education;Action & Adventure : 0.0339097999321804\n",
      "Adventure;Action & Adventure : 0.0339097999321804\n",
      "Video Players & Editors;Music & Video : 0.02260653328812027\n",
      "Sports;Action & Adventure : 0.02260653328812027\n",
      "Simulation;Pretend Play : 0.02260653328812027\n",
      "Puzzle;Creativity : 0.02260653328812027\n",
      "Music;Music & Video : 0.02260653328812027\n",
      "Entertainment;Pretend Play : 0.02260653328812027\n",
      "Casual;Education : 0.02260653328812027\n",
      "Board;Action & Adventure : 0.02260653328812027\n",
      "Video Players & Editors;Creativity : 0.011303266644060134\n",
      "Trivia;Education : 0.011303266644060134\n",
      "Travel & Local;Action & Adventure : 0.011303266644060134\n",
      "Tools;Education : 0.011303266644060134\n",
      "Strategy;Education : 0.011303266644060134\n",
      "Strategy;Creativity : 0.011303266644060134\n",
      "Strategy;Action & Adventure : 0.011303266644060134\n",
      "Simulation;Education : 0.011303266644060134\n",
      "Role Playing;Brain Games : 0.011303266644060134\n",
      "Racing;Pretend Play : 0.011303266644060134\n",
      "Puzzle;Education : 0.011303266644060134\n",
      "Parenting;Brain Games : 0.011303266644060134\n",
      "Music & Audio;Music & Video : 0.011303266644060134\n",
      "Lifestyle;Pretend Play : 0.011303266644060134\n",
      "Lifestyle;Education : 0.011303266644060134\n",
      "Health & Fitness;Education : 0.011303266644060134\n",
      "Health & Fitness;Action & Adventure : 0.011303266644060134\n",
      "Entertainment;Education : 0.011303266644060134\n",
      "Communication;Creativity : 0.011303266644060134\n",
      "Comics;Creativity : 0.011303266644060134\n",
      "Casual;Music & Video : 0.011303266644060134\n",
      "Card;Action & Adventure : 0.011303266644060134\n",
      "Books & Reference;Education : 0.011303266644060134\n",
      "Art & Design;Pretend Play : 0.011303266644060134\n",
      "Art & Design;Action & Adventure : 0.011303266644060134\n",
      "Arcade;Pretend Play : 0.011303266644060134\n",
      "Adventure;Education : 0.011303266644060134\n"
     ]
    }
   ],
   "source": [
    "print('\\nAndroid Genre List:\\n')\n",
    "android_genres = display_table(android_free_apps, 9)"
   ]
  },
  {
   "cell_type": "markdown",
   "metadata": {
    "collapsed": true
   },
   "source": [
    "Looking at this Android _\"English only\"_ dataset, I'm coming to a different conclusion than when looking at the _Category_. If you base your choice off this column, it appears that **Tools** are the most popular genre. **Entertainment** comes in second, and **Education** in third. \n",
    "\n",
    "I'm not sure what to think about this column of data because looking at it closer, I can see that several genres are entered in differently, which is skewing the percentages. The question is, by how much?\n",
    "\n",
    "Genres like: Arcade, Racing, Puzzle, Role-Playing, Strategy, Adventure, Casino, etc. All should technically fall under the **Games** genre, but they do not. I bet if we were to append these sub-genres to Games, we would see a definite rise in genre popularity, like we saw in the **Category**  column data. \n",
    "\n",
    "My guess is that most developers fill out Category, and sort of use the Genre column to describe the type of game they are creating. Because of this, I wouldn't make a recommendation based on this column. I would use the Category column to make a recommendation on the dataset."
   ]
  },
  {
   "cell_type": "code",
   "execution_count": 74,
   "metadata": {
    "collapsed": false,
    "scrolled": true
   },
   "outputs": [
    {
     "name": "stdout",
     "output_type": "stream",
     "text": [
      "Food & Drink - Average num of users: 33333.92307692308\n",
      "Photo & Video - Average num of users: 28441.54375\n",
      "Games - Average num of users: 22886.36709539121\n",
      "Entertainment - Average num of users: 14195.358565737051\n",
      "Lifestyle - Average num of users: 16815.48\n",
      "Productivity - Average num of users: 21028.410714285714\n",
      "Finance - Average num of users: 32367.02857142857\n",
      "Book - Average num of users: 46384.916666666664\n",
      "Education - Average num of users: 7003.983050847458\n",
      "Health & Fitness - Average num of users: 23298.015384615384\n",
      "Medical - Average num of users: 612.0\n",
      "Reference - Average num of users: 79350.4705882353\n",
      "News - Average num of users: 21248.023255813954\n",
      "Business - Average num of users: 7491.117647058823\n",
      "Catalogs - Average num of users: 4004.0\n",
      "Social Networking - Average num of users: 71548.34905660378\n",
      "Sports - Average num of users: 23008.898550724636\n",
      "Navigation - Average num of users: 86090.33333333333\n",
      "Weather - Average num of users: 52279.892857142855\n",
      "Utilities - Average num of users: 19156.493670886077\n",
      "Music - Average num of users: 57326.530303030304\n",
      "Shopping - Average num of users: 27230.734939759037\n",
      "Travel - Average num of users: 28243.8\n"
     ]
    }
   ],
   "source": [
    "# Generating a frequency table\n",
    "# For the rating_count_tot column of the app store data\n",
    "\n",
    "apple_rating_tots = {}\n",
    "\n",
    "for app in apple_free_apps:\n",
    "    app_genre = app[11]\n",
    "    if app_genre in apple_rating_tots:\n",
    "        apple_rating_tots[app_genre] += 1\n",
    "    else:\n",
    "        apple_rating_tots[app_genre] = 1\n",
    "\n",
    "\n",
    "for genre in apple_rating_tots:\n",
    "    total = 0\n",
    "    len_genre = 0\n",
    "    for i in apple_free_apps:\n",
    "        genre_app = i[11]\n",
    "        if genre_app == genre:\n",
    "            num_ratings = float(i[5])\n",
    "            total += num_ratings\n",
    "            len_genre += 1\n",
    "    avg_num_ratings = total / len_genre\n",
    "    print(genre + ' - Average num of users: ' + str(avg_num_ratings))\n",
    "\n",
    "    \n"
   ]
  },
  {
   "cell_type": "markdown",
   "metadata": {
    "collapsed": true
   },
   "source": [
    "So this data confirms some of what I mentioned earlier regarding Social media. Even though it appears **Games** are the most created apps, **Navigation, Reference & Social Networking** apps have the highest number of average users. \n",
    "\n",
    "This is important because we want to build apps that a high number of users will want to use in order to generate the maximum amount of revenue."
   ]
  },
  {
   "cell_type": "code",
   "execution_count": 83,
   "metadata": {
    "collapsed": false
   },
   "outputs": [
    {
     "name": "stdout",
     "output_type": "stream",
     "text": [
      "BOOKS_AND_REFERENCE - Total Number of Installs: 8814199.78835979\n",
      "PHOTOGRAPHY - Total Number of Installs: 17840110.40229885\n",
      "LIBRARIES_AND_DEMO - Total Number of Installs: 638503.734939759\n",
      "MEDICAL - Total Number of Installs: 120550.61980830671\n",
      "COMMUNICATION - Total Number of Installs: 38590581.08741259\n",
      "SPORTS - Total Number of Installs: 3650602.276666667\n",
      "PRODUCTIVITY - Total Number of Installs: 16787331.344927534\n",
      "TOOLS - Total Number of Installs: 10830251.970588235\n",
      "FOOD_AND_DRINK - Total Number of Installs: 1924897.7363636363\n",
      "SHOPPING - Total Number of Installs: 7036877.311557789\n",
      "FINANCE - Total Number of Installs: 1387692.475609756\n",
      "PERSONALIZATION - Total Number of Installs: 5201482.6122448975\n",
      "WEATHER - Total Number of Installs: 5145550.285714285\n",
      "FAMILY - Total Number of Installs: 3697848.1731343283\n",
      "PARENTING - Total Number of Installs: 542603.6206896552\n",
      "HEALTH_AND_FITNESS - Total Number of Installs: 4188821.9853479853\n",
      "BEAUTY - Total Number of Installs: 513151.88679245283\n",
      "BUSINESS - Total Number of Installs: 1712290.1474201474\n",
      "ENTERTAINMENT - Total Number of Installs: 11640705.88235294\n",
      "EVENTS - Total Number of Installs: 253542.22222222222\n",
      "ART_AND_DESIGN - Total Number of Installs: 1986335.0877192982\n",
      "LIFESTYLE - Total Number of Installs: 1446158.2238372094\n",
      "GAME - Total Number of Installs: 15544014.51048951\n",
      "COMICS - Total Number of Installs: 832613.8888888889\n",
      "SOCIAL - Total Number of Installs: 23253652.127118643\n",
      "MAPS_AND_NAVIGATION - Total Number of Installs: 4049274.6341463416\n",
      "NEWS_AND_MAGAZINES - Total Number of Installs: 9549178.467741935\n",
      "VIDEO_PLAYERS - Total Number of Installs: 24727872.452830188\n",
      "TRAVEL_AND_LOCAL - Total Number of Installs: 13984077.710144928\n",
      "HOUSE_AND_HOME - Total Number of Installs: 1360598.042253521\n",
      "AUTO_AND_VEHICLES - Total Number of Installs: 647317.8170731707\n",
      "DATING - Total Number of Installs: 854028.8303030303\n",
      "EDUCATION - Total Number of Installs: 1833495.145631068\n"
     ]
    }
   ],
   "source": [
    "# Calculating the average installs per app genre for Google Play\n",
    "\n",
    "google_cate_freq = {}\n",
    "\n",
    "for app in android_free_apps:\n",
    "    app_genre = app[1]\n",
    "    if app_genre in google_cate_freq:\n",
    "        google_cate_freq[app_genre] += 1\n",
    "    else:\n",
    "        google_cate_freq[app_genre] = 1\n",
    "        \n",
    "\n",
    "\n",
    "for cat in google_cate_freq:\n",
    "    total = 0\n",
    "    len_category = 0\n",
    "    for i in android_free_apps:\n",
    "        category_app = i[1]\n",
    "        if category_app == cat:\n",
    "            num_installs = i[5]\n",
    "            num_installs = num_installs.replace('+', '')\n",
    "            num_installs = num_installs.replace(',', '')\n",
    "            new_num_installs = float(num_installs)\n",
    "            total += new_num_installs\n",
    "            len_category += 1\n",
    "    \n",
    "    avg_num_installs = total / len_category\n",
    "    print(cat + ' - Total Number of Installs: ' +\n",
    "          str(avg_num_installs))\n"
   ]
  },
  {
   "cell_type": "markdown",
   "metadata": {},
   "source": [
    "Like the last analysis we did on the Apple data for user installs, this data gives us a more clear picture regarding what users keep on their phones. While initially I thought games and entertainment were on top, it turns out that **Social** and **Video Player** apps are in front of every other genre in terms of user installs. This might be because these apps tend to come preloaded with mobile devices. \n",
    "\n",
    "To get a better picture, it would be nice to see uninstall data on users. That would let us know what users are getting rid of and allow us to avoid creating apps of that nature. \n",
    "\n",
    "All in all, judging by this data, the genre that makes the most sense would be **Games** or **Entertainment**. I know the Social and Video Player genres have more installs, but we know these apps tend to come preinstalled on devices. Plus, it will be difficult to dethrown the Facebook, twitter and Instagrams of the app world...at least right now. The same goes for video players like YouTube and Vevo. \n",
    "\n",
    "Our best bet based on these datasets is to target the Game and Entertainment categories. "
   ]
  }
 ],
 "metadata": {
  "kernelspec": {
   "display_name": "Python 3",
   "language": "python",
   "name": "python3"
  },
  "language_info": {
   "codemirror_mode": {
    "name": "ipython",
    "version": 3
   },
   "file_extension": ".py",
   "mimetype": "text/x-python",
   "name": "python",
   "nbconvert_exporter": "python",
   "pygments_lexer": "ipython3",
   "version": "3.4.3"
  }
 },
 "nbformat": 4,
 "nbformat_minor": 2
}
